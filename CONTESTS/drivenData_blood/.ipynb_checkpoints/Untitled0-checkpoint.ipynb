{
 "metadata": {
  "name": "",
  "signature": "sha256:0ca724abf16040b9b6b20fc72abbbbbd21a724f470b1e68e3afce9ee717bf390"
 },
 "nbformat": 3,
 "nbformat_minor": 0,
 "worksheets": [
  {
   "cells": [
    {
     "cell_type": "code",
     "collapsed": false,
     "input": [
      "import pandas as pd"
     ],
     "language": "python",
     "metadata": {},
     "outputs": [],
     "prompt_number": 27
    },
    {
     "cell_type": "code",
     "collapsed": false,
     "input": [
      "train = pd.read_csv('train.csv')\n",
      "test = pd.read_csv('test.csv')"
     ],
     "language": "python",
     "metadata": {},
     "outputs": [],
     "prompt_number": 28
    },
    {
     "cell_type": "code",
     "collapsed": false,
     "input": [
      "from sklearn import svm, metrics\n",
      "from sklearn import preprocessing\n",
      "from sklearn.linear_model import LogisticRegression\n",
      "from sklearn.tree import DecisionTreeClassifier\n",
      "from sklearn.ensemble import RandomForestClassifier"
     ],
     "language": "python",
     "metadata": {},
     "outputs": [],
     "prompt_number": 57
    },
    {
     "cell_type": "code",
     "collapsed": false,
     "input": [
      "X = train.ix[:, 1:-1]\n",
      "y = train.ix[:, -1]\n",
      "\n",
      "X['tenure'] = X['Months since First Donation'] - X['Months since Last Donation'] + 1\n",
      "X['avg'] = X['Number of Donations']/X['tenure']"
     ],
     "language": "python",
     "metadata": {},
     "outputs": [],
     "prompt_number": 100
    },
    {
     "cell_type": "code",
     "collapsed": false,
     "input": [
      "svmRbf = svm.SVC(kernel='rbf', probability=True)\n",
      "svmLin = svm.SVC(kernel='rbf', probability=True)\n",
      "logReg = LogisticRegression()\n",
      "tree   = DecisionTreeClassifier()\n",
      "rf     = RandomForestClassifier()"
     ],
     "language": "python",
     "metadata": {},
     "outputs": [],
     "prompt_number": 102
    },
    {
     "cell_type": "code",
     "collapsed": false,
     "input": [
      "svmRbf.fit(X, y)\n",
      "svmLin.fit(X, y)\n",
      "logReg.fit(X, y)\n",
      "tree.fit(X, y)\n",
      "rf.fit(X, y)"
     ],
     "language": "python",
     "metadata": {},
     "outputs": [
      {
       "metadata": {},
       "output_type": "pyout",
       "prompt_number": 103,
       "text": [
        "RandomForestClassifier(bootstrap=True, class_weight=None, criterion='gini',\n",
        "            max_depth=None, max_features='auto', max_leaf_nodes=None,\n",
        "            min_samples_leaf=1, min_samples_split=2,\n",
        "            min_weight_fraction_leaf=0.0, n_estimators=10, n_jobs=1,\n",
        "            oob_score=False, random_state=None, verbose=0,\n",
        "            warm_start=False)"
       ]
      }
     ],
     "prompt_number": 103
    },
    {
     "cell_type": "code",
     "collapsed": false,
     "input": [
      "print(\"mse for svm rbf: {}\".format(metrics.mean_squared_error(y, svmRbf.predict_proba(X)[:,1])))\n",
      "print(\"mse for svm lin: {}\".format(metrics.mean_squared_error(y, svmLin.predict_proba(X)[:,1])))\n",
      "print(\"mse for log reg: {}\".format(metrics.mean_squared_error(y, logReg.predict_proba(X)[:,1])))\n",
      "print(\"mse for tree: {}\".format(metrics.mean_squared_error(y, tree.predict_proba(X)[:,1])))\n",
      "print(\"mse for rf: {}\".format(metrics.mean_squared_error(y, tree.predict_proba(X)[:,1])))"
     ],
     "language": "python",
     "metadata": {},
     "outputs": [
      {
       "output_type": "stream",
       "stream": "stdout",
       "text": [
        "mse for svm rbf: 0.123129511289\n",
        "mse for svm lin: 0.126729460023\n",
        "mse for log reg: 0.155732783054\n",
        "mse for tree: 0.0405589684236\n",
        "mse for rf: 0.0405589684236\n"
       ]
      }
     ],
     "prompt_number": 104
    },
    {
     "cell_type": "code",
     "collapsed": false,
     "input": [
      "submit = pd.DataFrame({\"id\": test.ix[:,0], \"target\": logReg.predict_proba(test.ix[:,1:])[:,1]})\n",
      "submit = submit.set_index('id')\n",
      "submit.to_csv('py.csv')"
     ],
     "language": "python",
     "metadata": {},
     "outputs": [],
     "prompt_number": 83
    }
   ],
   "metadata": {}
  }
 ]
}