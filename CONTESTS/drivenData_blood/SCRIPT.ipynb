{
 "metadata": {
  "name": "",
  "signature": "sha256:5487d53190eccecc9a9c4a6ef0061d4a7835165529212889209684495f8e0928"
 },
 "nbformat": 3,
 "nbformat_minor": 0,
 "worksheets": [
  {
   "cells": [
    {
     "cell_type": "code",
     "collapsed": false,
     "input": [
      "%matplotlib inline\n",
      "import pandas as pd\n",
      "import matplotlib.pyplot as plt"
     ],
     "language": "python",
     "metadata": {},
     "outputs": [],
     "prompt_number": 73
    },
    {
     "cell_type": "code",
     "collapsed": false,
     "input": [
      "train = pd.read_csv('train.csv')\n",
      "test = pd.read_csv('test.csv')"
     ],
     "language": "python",
     "metadata": {},
     "outputs": [],
     "prompt_number": 3
    },
    {
     "cell_type": "code",
     "collapsed": false,
     "input": [
      "from sklearn import svm, metrics\n",
      "from sklearn import preprocessing\n",
      "from sklearn.linear_model import LogisticRegression\n",
      "from sklearn.tree import DecisionTreeClassifier\n",
      "from sklearn.ensemble import RandomForestClassifier\n",
      "from sklearn.neighbors import KNeighborsClassifier"
     ],
     "language": "python",
     "metadata": {},
     "outputs": [],
     "prompt_number": 60
    },
    {
     "cell_type": "code",
     "collapsed": false,
     "input": [
      "X = train.ix[:, 1:-1]\n",
      "y = train.ix[:, -1]\n",
      "\n",
      "X['tenure'] = X['Months since First Donation'] - X['Months since Last Donation'] + 1\n",
      "X['avg'] = X['Number of Donations']/X['tenure']\n",
      "\n",
      "test['tenure'] = test['Months since First Donation'] - test['Months since Last Donation'] + 1\n",
      "test['avg'] = test['Number of Donations']/test['tenure']"
     ],
     "language": "python",
     "metadata": {},
     "outputs": [],
     "prompt_number": 61
    },
    {
     "cell_type": "code",
     "collapsed": false,
     "input": [
      "svmRbf = svm.SVC(kernel='rbf', probability=True)\n",
      "svmLin = svm.SVC(kernel='rbf', probability=True)\n",
      "svm    = svm.SVC(probability=True)\n",
      "logReg = LogisticRegression()\n",
      "rf     = RandomForestClassifier()\n",
      "knn    = KNeighborsClassifier()\n",
      "tree   = DecisionTreeClassifier()"
     ],
     "language": "python",
     "metadata": {},
     "outputs": [],
     "prompt_number": 62
    },
    {
     "cell_type": "code",
     "collapsed": false,
     "input": [
      "svmRbf.fit(X, y)\n",
      "svmLin.fit(X, y)\n",
      "svm.fit(X, y)\n",
      "logReg.fit(X, y)\n",
      "rf.fit(X, y)\n",
      "knn.fit(X, y)\n",
      "tree.fit(X, y)"
     ],
     "language": "python",
     "metadata": {},
     "outputs": [
      {
       "metadata": {},
       "output_type": "pyout",
       "prompt_number": 64,
       "text": [
        "DecisionTreeClassifier(class_weight=None, criterion='gini', max_depth=None,\n",
        "            max_features=None, max_leaf_nodes=None, min_samples_leaf=1,\n",
        "            min_samples_split=2, min_weight_fraction_leaf=0.0,\n",
        "            random_state=None, splitter='best')"
       ]
      }
     ],
     "prompt_number": 64
    },
    {
     "cell_type": "code",
     "collapsed": false,
     "input": [
      "print(\"mse for svm rbf: {}\".format(metrics.mean_squared_error(y, svmRbf.predict_proba(X)[:,1])))\n",
      "print(\"mse for svm lin: {}\".format(metrics.mean_squared_error(y, svmLin.predict_proba(X)[:,1])))\n",
      "print(\"mse for svm: {}\".format(metrics.mean_squared_error(y, svm.predict_proba(X)[:,1])))\n",
      "print(\"mse for log reg: {}\".format(metrics.mean_squared_error(y, logReg.predict_proba(X)[:,1])))\n",
      "print(\"mse for tree: {}\".format(metrics.mean_squared_error(y, tree.predict_proba(X)[:,1])))\n",
      "print(\"mse for rf: {}\".format(metrics.mean_squared_error(y, rf.predict_proba(X)[:,1])))\n",
      "print(\"mse for knn: {}\".format(metrics.mean_squared_error(y, knn.predict_proba(X)[:,1])))"
     ],
     "language": "python",
     "metadata": {},
     "outputs": [
      {
       "output_type": "stream",
       "stream": "stdout",
       "text": [
        "mse for svm rbf: 0.12111182998\n",
        "mse for svm lin: 0.119529724049\n",
        "mse for svm: 0.11076909192\n",
        "mse for log reg: 0.155732783054\n",
        "mse for tree: 0.0405589684236\n",
        "mse for rf: 0.0601382002254\n",
        "mse for knn: 0.122986111111\n"
       ]
      }
     ],
     "prompt_number": 58
    },
    {
     "cell_type": "code",
     "collapsed": false,
     "input": [
      "submit = pd.DataFrame({\"id\": test.ix[:,0], \"target\": svm.predict_proba(test.ix[:,1:])[:,1]})\n",
      "submit = submit.set_index('id')\n",
      "submit.to_csv('py.csv')"
     ],
     "language": "python",
     "metadata": {},
     "outputs": [],
     "prompt_number": 35
    }
   ],
   "metadata": {}
  }
 ]
}